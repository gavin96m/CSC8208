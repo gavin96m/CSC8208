{
 "cells": [
  {
   "cell_type": "code",
   "execution_count": 36,
   "id": "f1960c06",
   "metadata": {},
   "outputs": [],
   "source": [
    "class IO:\n",
    "    \n",
    "    \n",
    "    def __init__(self, LowerRateLimit , UpperRateLimit, FixedAVDelay , DynamicAVDelay , SensedAVDelayOffset,AtrialAmplitude\n",
    "                ,VentricualrAmplitude, AtrialPulseWidth, VentricularPulseWidth, AtrialSensitivity, VentricularSensitivity\n",
    "                ,VRP, ARP, Hysteresis, PVARP, PVARPExtension, RateSmoothing, ATRDuration, ATRFallbackMode,ATRFallbackTime):\n",
    "        \n",
    "        self.LowerRateLimit = LowerRateLimit\n",
    "        self.UpperRateLimit = UpperRateLimit\n",
    "        self.FixedAVDelay = FixedAVDelay\n",
    "        self.DynamicAVDelay = DynamicAVDelay\n",
    "        self.SensedAVDelayOffset = SensedAVDelayOffset\n",
    "        self.AtrialAmplitude = AtrialAmplitude\n",
    "        self.VentricualrAmplitude = VentricualrAmplitude\n",
    "        self.AtrialPulseWidth = AtrialPulseWidth\n",
    "        self.VentricularPulseWidth = VentricularPulseWidth\n",
    "        self.AtrialSensitivity = AtrialSensitivity\n",
    "        self.VentricularSensitivity = VentricularSensitivity\n",
    "        self.VRP = VRP\n",
    "        self.ARP = ARP\n",
    "        self.Hysteresis = Hysteresis\n",
    "        self.PVARP = PVARP\n",
    "        self.PVARPExtension = PVARPExtension\n",
    "        self.RateSmoothing = RateSmoothing\n",
    "        self.ATRDuration = ATRDuration\n",
    "        self.ATRFallbackMode = ATRFallbackMode\n",
    "        self.ATRFallbackTime = ATRFallbackTime\n",
    "        \n",
    "    def check_values(self):\n",
    "    \n",
    "        \n",
    "        param = [self.LowerRateLimit , self.UpperRateLimit, self.FixedAVDelay , self.DynamicAVDelay , self.SensedAVDelayOffset,self.AtrialAmplitude\n",
    "                ,self.VentricualrAmplitude, self.AtrialPulseWidth, self.VentricularPulseWidth, self.AtrialSensitivity, self.VentricularSensitivity\n",
    "                ,self.VRP, self.ARP, self.Hysteresis, self.PVARP, self.PVARPExtension, self.RateSmoothing, self.ATRDuration, self.ATRFallbackMode,self.ATRFallbackTime]\n",
    "        \n",
    "        for par in param:\n",
    "            \n",
    "            if par == None:\n",
    "                return 'None'\n",
    "\n",
    "            else:\n",
    "                return int(par)\n",
    "  "
   ]
  },
  {
   "cell_type": "code",
   "execution_count": 58,
   "id": "c7217e0d",
   "metadata": {},
   "outputs": [],
   "source": [
    "io = IO( None , 2 , 3 , 4 ,5 , 6 , 7 , 8 , 9 , 10 , 11 ,  12 , 14 , 15 , 16 , 17 , 18 ,19 ,20 , 21)"
   ]
  },
  {
   "cell_type": "code",
   "execution_count": 59,
   "id": "30089856",
   "metadata": {},
   "outputs": [
    {
     "data": {
      "text/plain": [
       "19"
      ]
     },
     "execution_count": 59,
     "metadata": {},
     "output_type": "execute_result"
    }
   ],
   "source": [
    "io.ATRDuration"
   ]
  },
  {
   "cell_type": "code",
   "execution_count": 60,
   "id": "0e898922",
   "metadata": {},
   "outputs": [
    {
     "data": {
      "text/plain": [
       "'None'"
      ]
     },
     "execution_count": 60,
     "metadata": {},
     "output_type": "execute_result"
    }
   ],
   "source": [
    "io.check_values()"
   ]
  },
  {
   "cell_type": "code",
   "execution_count": null,
   "id": "c5d0604b",
   "metadata": {},
   "outputs": [],
   "source": []
  }
 ],
 "metadata": {
  "kernelspec": {
   "display_name": "Python 3 (ipykernel)",
   "language": "python",
   "name": "python3"
  },
  "language_info": {
   "codemirror_mode": {
    "name": "ipython",
    "version": 3
   },
   "file_extension": ".py",
   "mimetype": "text/x-python",
   "name": "python",
   "nbconvert_exporter": "python",
   "pygments_lexer": "ipython3",
   "version": "3.9.7"
  }
 },
 "nbformat": 4,
 "nbformat_minor": 5
}
